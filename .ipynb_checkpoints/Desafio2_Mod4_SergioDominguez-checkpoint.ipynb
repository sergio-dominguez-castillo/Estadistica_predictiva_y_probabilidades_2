{
 "cells": [
  {
   "cell_type": "code",
   "execution_count": 1,
   "id": "4c2ca33c",
   "metadata": {},
   "outputs": [],
   "source": [
    "# importar librerias\n",
    "import pandas as pd\n",
    "import numpy as np\n",
    "import funciones as fn"
   ]
  },
  {
   "cell_type": "code",
   "execution_count": 2,
   "id": "a73455c3",
   "metadata": {},
   "outputs": [
    {
     "data": {
      "text/html": [
       "<div>\n",
       "<style scoped>\n",
       "    .dataframe tbody tr th:only-of-type {\n",
       "        vertical-align: middle;\n",
       "    }\n",
       "\n",
       "    .dataframe tbody tr th {\n",
       "        vertical-align: top;\n",
       "    }\n",
       "\n",
       "    .dataframe thead th {\n",
       "        text-align: right;\n",
       "    }\n",
       "</style>\n",
       "<table border=\"1\" class=\"dataframe\">\n",
       "  <thead>\n",
       "    <tr style=\"text-align: right;\">\n",
       "      <th></th>\n",
       "      <th>team</th>\n",
       "      <th>continent</th>\n",
       "      <th>group</th>\n",
       "      <th>group_pos</th>\n",
       "      <th>cantidad_juegos</th>\n",
       "      <th>juegos_ganados</th>\n",
       "      <th>juegos_empatados</th>\n",
       "      <th>juegos_perdidos</th>\n",
       "      <th>goles_favor</th>\n",
       "      <th>goles_contra</th>\n",
       "      <th>goles_diferencia</th>\n",
       "      <th>puntos</th>\n",
       "      <th>clasificado</th>\n",
       "    </tr>\n",
       "  </thead>\n",
       "  <tbody>\n",
       "    <tr>\n",
       "      <th>0</th>\n",
       "      <td>Brazil</td>\n",
       "      <td>southamerica</td>\n",
       "      <td>A</td>\n",
       "      <td>1</td>\n",
       "      <td>3</td>\n",
       "      <td>2</td>\n",
       "      <td>1</td>\n",
       "      <td>0</td>\n",
       "      <td>7</td>\n",
       "      <td>2</td>\n",
       "      <td>5</td>\n",
       "      <td>7</td>\n",
       "      <td>1</td>\n",
       "    </tr>\n",
       "    <tr>\n",
       "      <th>1</th>\n",
       "      <td>Mexico</td>\n",
       "      <td>northamerica</td>\n",
       "      <td>A</td>\n",
       "      <td>2</td>\n",
       "      <td>3</td>\n",
       "      <td>2</td>\n",
       "      <td>1</td>\n",
       "      <td>0</td>\n",
       "      <td>4</td>\n",
       "      <td>1</td>\n",
       "      <td>3</td>\n",
       "      <td>7</td>\n",
       "      <td>1</td>\n",
       "    </tr>\n",
       "    <tr>\n",
       "      <th>2</th>\n",
       "      <td>Croatia</td>\n",
       "      <td>europe</td>\n",
       "      <td>A</td>\n",
       "      <td>3</td>\n",
       "      <td>3</td>\n",
       "      <td>1</td>\n",
       "      <td>0</td>\n",
       "      <td>2</td>\n",
       "      <td>6</td>\n",
       "      <td>6</td>\n",
       "      <td>0</td>\n",
       "      <td>3</td>\n",
       "      <td>0</td>\n",
       "    </tr>\n",
       "    <tr>\n",
       "      <th>3</th>\n",
       "      <td>Cameroon</td>\n",
       "      <td>africa</td>\n",
       "      <td>A</td>\n",
       "      <td>4</td>\n",
       "      <td>3</td>\n",
       "      <td>0</td>\n",
       "      <td>0</td>\n",
       "      <td>3</td>\n",
       "      <td>1</td>\n",
       "      <td>9</td>\n",
       "      <td>−8</td>\n",
       "      <td>0</td>\n",
       "      <td>0</td>\n",
       "    </tr>\n",
       "    <tr>\n",
       "      <th>4</th>\n",
       "      <td>Netherlands</td>\n",
       "      <td>europe</td>\n",
       "      <td>B</td>\n",
       "      <td>1</td>\n",
       "      <td>3</td>\n",
       "      <td>3</td>\n",
       "      <td>0</td>\n",
       "      <td>0</td>\n",
       "      <td>10</td>\n",
       "      <td>3</td>\n",
       "      <td>7</td>\n",
       "      <td>9</td>\n",
       "      <td>1</td>\n",
       "    </tr>\n",
       "    <tr>\n",
       "      <th>5</th>\n",
       "      <td>Chile</td>\n",
       "      <td>southamerica</td>\n",
       "      <td>B</td>\n",
       "      <td>2</td>\n",
       "      <td>3</td>\n",
       "      <td>2</td>\n",
       "      <td>0</td>\n",
       "      <td>1</td>\n",
       "      <td>5</td>\n",
       "      <td>3</td>\n",
       "      <td>2</td>\n",
       "      <td>6</td>\n",
       "      <td>1</td>\n",
       "    </tr>\n",
       "    <tr>\n",
       "      <th>6</th>\n",
       "      <td>Spain</td>\n",
       "      <td>europe</td>\n",
       "      <td>B</td>\n",
       "      <td>3</td>\n",
       "      <td>3</td>\n",
       "      <td>1</td>\n",
       "      <td>0</td>\n",
       "      <td>2</td>\n",
       "      <td>4</td>\n",
       "      <td>7</td>\n",
       "      <td>−3</td>\n",
       "      <td>3</td>\n",
       "      <td>0</td>\n",
       "    </tr>\n",
       "    <tr>\n",
       "      <th>7</th>\n",
       "      <td>Australia</td>\n",
       "      <td>asia</td>\n",
       "      <td>B</td>\n",
       "      <td>4</td>\n",
       "      <td>3</td>\n",
       "      <td>0</td>\n",
       "      <td>0</td>\n",
       "      <td>3</td>\n",
       "      <td>3</td>\n",
       "      <td>9</td>\n",
       "      <td>−6</td>\n",
       "      <td>0</td>\n",
       "      <td>0</td>\n",
       "    </tr>\n",
       "    <tr>\n",
       "      <th>8</th>\n",
       "      <td>Colombia</td>\n",
       "      <td>southamerica</td>\n",
       "      <td>C</td>\n",
       "      <td>1</td>\n",
       "      <td>3</td>\n",
       "      <td>3</td>\n",
       "      <td>0</td>\n",
       "      <td>0</td>\n",
       "      <td>9</td>\n",
       "      <td>2</td>\n",
       "      <td>7</td>\n",
       "      <td>9</td>\n",
       "      <td>1</td>\n",
       "    </tr>\n",
       "    <tr>\n",
       "      <th>9</th>\n",
       "      <td>Greece</td>\n",
       "      <td>europe</td>\n",
       "      <td>C</td>\n",
       "      <td>2</td>\n",
       "      <td>3</td>\n",
       "      <td>1</td>\n",
       "      <td>1</td>\n",
       "      <td>1</td>\n",
       "      <td>2</td>\n",
       "      <td>4</td>\n",
       "      <td>−2</td>\n",
       "      <td>4</td>\n",
       "      <td>1</td>\n",
       "    </tr>\n",
       "    <tr>\n",
       "      <th>10</th>\n",
       "      <td>Ivory Coast</td>\n",
       "      <td>africa</td>\n",
       "      <td>C</td>\n",
       "      <td>3</td>\n",
       "      <td>3</td>\n",
       "      <td>1</td>\n",
       "      <td>0</td>\n",
       "      <td>2</td>\n",
       "      <td>4</td>\n",
       "      <td>5</td>\n",
       "      <td>−1</td>\n",
       "      <td>3</td>\n",
       "      <td>0</td>\n",
       "    </tr>\n",
       "    <tr>\n",
       "      <th>11</th>\n",
       "      <td>Japan</td>\n",
       "      <td>asia</td>\n",
       "      <td>C</td>\n",
       "      <td>4</td>\n",
       "      <td>3</td>\n",
       "      <td>0</td>\n",
       "      <td>1</td>\n",
       "      <td>2</td>\n",
       "      <td>2</td>\n",
       "      <td>6</td>\n",
       "      <td>−4</td>\n",
       "      <td>1</td>\n",
       "      <td>0</td>\n",
       "    </tr>\n",
       "    <tr>\n",
       "      <th>12</th>\n",
       "      <td>Costa Rica</td>\n",
       "      <td>northamerica</td>\n",
       "      <td>D</td>\n",
       "      <td>1</td>\n",
       "      <td>3</td>\n",
       "      <td>2</td>\n",
       "      <td>1</td>\n",
       "      <td>0</td>\n",
       "      <td>4</td>\n",
       "      <td>1</td>\n",
       "      <td>3</td>\n",
       "      <td>7</td>\n",
       "      <td>1</td>\n",
       "    </tr>\n",
       "    <tr>\n",
       "      <th>13</th>\n",
       "      <td>Uruguay</td>\n",
       "      <td>southamerica</td>\n",
       "      <td>D</td>\n",
       "      <td>2</td>\n",
       "      <td>3</td>\n",
       "      <td>2</td>\n",
       "      <td>0</td>\n",
       "      <td>1</td>\n",
       "      <td>4</td>\n",
       "      <td>4</td>\n",
       "      <td>0</td>\n",
       "      <td>6</td>\n",
       "      <td>1</td>\n",
       "    </tr>\n",
       "    <tr>\n",
       "      <th>14</th>\n",
       "      <td>Italy</td>\n",
       "      <td>europe</td>\n",
       "      <td>D</td>\n",
       "      <td>3</td>\n",
       "      <td>3</td>\n",
       "      <td>1</td>\n",
       "      <td>0</td>\n",
       "      <td>2</td>\n",
       "      <td>2</td>\n",
       "      <td>3</td>\n",
       "      <td>−1</td>\n",
       "      <td>3</td>\n",
       "      <td>0</td>\n",
       "    </tr>\n",
       "    <tr>\n",
       "      <th>15</th>\n",
       "      <td>England</td>\n",
       "      <td>europe</td>\n",
       "      <td>D</td>\n",
       "      <td>4</td>\n",
       "      <td>3</td>\n",
       "      <td>0</td>\n",
       "      <td>1</td>\n",
       "      <td>2</td>\n",
       "      <td>2</td>\n",
       "      <td>4</td>\n",
       "      <td>−2</td>\n",
       "      <td>1</td>\n",
       "      <td>0</td>\n",
       "    </tr>\n",
       "    <tr>\n",
       "      <th>16</th>\n",
       "      <td>France</td>\n",
       "      <td>europe</td>\n",
       "      <td>E</td>\n",
       "      <td>1</td>\n",
       "      <td>3</td>\n",
       "      <td>2</td>\n",
       "      <td>1</td>\n",
       "      <td>0</td>\n",
       "      <td>8</td>\n",
       "      <td>2</td>\n",
       "      <td>6</td>\n",
       "      <td>7</td>\n",
       "      <td>1</td>\n",
       "    </tr>\n",
       "    <tr>\n",
       "      <th>17</th>\n",
       "      <td>Switzerland</td>\n",
       "      <td>europe</td>\n",
       "      <td>E</td>\n",
       "      <td>2</td>\n",
       "      <td>3</td>\n",
       "      <td>2</td>\n",
       "      <td>0</td>\n",
       "      <td>1</td>\n",
       "      <td>7</td>\n",
       "      <td>6</td>\n",
       "      <td>1</td>\n",
       "      <td>6</td>\n",
       "      <td>1</td>\n",
       "    </tr>\n",
       "    <tr>\n",
       "      <th>18</th>\n",
       "      <td>Ecuador</td>\n",
       "      <td>southamerica</td>\n",
       "      <td>E</td>\n",
       "      <td>3</td>\n",
       "      <td>3</td>\n",
       "      <td>1</td>\n",
       "      <td>1</td>\n",
       "      <td>1</td>\n",
       "      <td>3</td>\n",
       "      <td>3</td>\n",
       "      <td>0</td>\n",
       "      <td>4</td>\n",
       "      <td>0</td>\n",
       "    </tr>\n",
       "    <tr>\n",
       "      <th>19</th>\n",
       "      <td>Honduras</td>\n",
       "      <td>northamerica</td>\n",
       "      <td>E</td>\n",
       "      <td>4</td>\n",
       "      <td>3</td>\n",
       "      <td>0</td>\n",
       "      <td>0</td>\n",
       "      <td>3</td>\n",
       "      <td>1</td>\n",
       "      <td>8</td>\n",
       "      <td>−7</td>\n",
       "      <td>0</td>\n",
       "      <td>0</td>\n",
       "    </tr>\n",
       "    <tr>\n",
       "      <th>20</th>\n",
       "      <td>Argentina</td>\n",
       "      <td>southamerica</td>\n",
       "      <td>F</td>\n",
       "      <td>1</td>\n",
       "      <td>3</td>\n",
       "      <td>3</td>\n",
       "      <td>0</td>\n",
       "      <td>0</td>\n",
       "      <td>6</td>\n",
       "      <td>3</td>\n",
       "      <td>3</td>\n",
       "      <td>9</td>\n",
       "      <td>1</td>\n",
       "    </tr>\n",
       "    <tr>\n",
       "      <th>21</th>\n",
       "      <td>Nigeria</td>\n",
       "      <td>africa</td>\n",
       "      <td>F</td>\n",
       "      <td>2</td>\n",
       "      <td>3</td>\n",
       "      <td>1</td>\n",
       "      <td>1</td>\n",
       "      <td>1</td>\n",
       "      <td>3</td>\n",
       "      <td>3</td>\n",
       "      <td>0</td>\n",
       "      <td>4</td>\n",
       "      <td>1</td>\n",
       "    </tr>\n",
       "    <tr>\n",
       "      <th>22</th>\n",
       "      <td>Bosnia and Herzegovina</td>\n",
       "      <td>europe</td>\n",
       "      <td>F</td>\n",
       "      <td>3</td>\n",
       "      <td>3</td>\n",
       "      <td>1</td>\n",
       "      <td>0</td>\n",
       "      <td>2</td>\n",
       "      <td>4</td>\n",
       "      <td>4</td>\n",
       "      <td>0</td>\n",
       "      <td>3</td>\n",
       "      <td>0</td>\n",
       "    </tr>\n",
       "    <tr>\n",
       "      <th>23</th>\n",
       "      <td>Iran</td>\n",
       "      <td>asia</td>\n",
       "      <td>F</td>\n",
       "      <td>4</td>\n",
       "      <td>3</td>\n",
       "      <td>0</td>\n",
       "      <td>1</td>\n",
       "      <td>2</td>\n",
       "      <td>1</td>\n",
       "      <td>4</td>\n",
       "      <td>−3</td>\n",
       "      <td>1</td>\n",
       "      <td>0</td>\n",
       "    </tr>\n",
       "    <tr>\n",
       "      <th>24</th>\n",
       "      <td>Germany</td>\n",
       "      <td>europe</td>\n",
       "      <td>G</td>\n",
       "      <td>1</td>\n",
       "      <td>3</td>\n",
       "      <td>2</td>\n",
       "      <td>1</td>\n",
       "      <td>0</td>\n",
       "      <td>7</td>\n",
       "      <td>2</td>\n",
       "      <td>5</td>\n",
       "      <td>7</td>\n",
       "      <td>1</td>\n",
       "    </tr>\n",
       "    <tr>\n",
       "      <th>25</th>\n",
       "      <td>United States</td>\n",
       "      <td>northamerica</td>\n",
       "      <td>G</td>\n",
       "      <td>2</td>\n",
       "      <td>3</td>\n",
       "      <td>1</td>\n",
       "      <td>1</td>\n",
       "      <td>1</td>\n",
       "      <td>4</td>\n",
       "      <td>4</td>\n",
       "      <td>0</td>\n",
       "      <td>4</td>\n",
       "      <td>1</td>\n",
       "    </tr>\n",
       "    <tr>\n",
       "      <th>26</th>\n",
       "      <td>Portugal</td>\n",
       "      <td>europe</td>\n",
       "      <td>G</td>\n",
       "      <td>3</td>\n",
       "      <td>3</td>\n",
       "      <td>1</td>\n",
       "      <td>1</td>\n",
       "      <td>1</td>\n",
       "      <td>4</td>\n",
       "      <td>7</td>\n",
       "      <td>−3</td>\n",
       "      <td>4</td>\n",
       "      <td>0</td>\n",
       "    </tr>\n",
       "    <tr>\n",
       "      <th>27</th>\n",
       "      <td>Ghana</td>\n",
       "      <td>africa</td>\n",
       "      <td>G</td>\n",
       "      <td>4</td>\n",
       "      <td>3</td>\n",
       "      <td>0</td>\n",
       "      <td>1</td>\n",
       "      <td>2</td>\n",
       "      <td>4</td>\n",
       "      <td>6</td>\n",
       "      <td>−2</td>\n",
       "      <td>1</td>\n",
       "      <td>0</td>\n",
       "    </tr>\n",
       "    <tr>\n",
       "      <th>28</th>\n",
       "      <td>Belgium</td>\n",
       "      <td>europe</td>\n",
       "      <td>H</td>\n",
       "      <td>1</td>\n",
       "      <td>3</td>\n",
       "      <td>3</td>\n",
       "      <td>0</td>\n",
       "      <td>0</td>\n",
       "      <td>4</td>\n",
       "      <td>1</td>\n",
       "      <td>3</td>\n",
       "      <td>9</td>\n",
       "      <td>1</td>\n",
       "    </tr>\n",
       "    <tr>\n",
       "      <th>29</th>\n",
       "      <td>Algeria</td>\n",
       "      <td>africa</td>\n",
       "      <td>H</td>\n",
       "      <td>2</td>\n",
       "      <td>3</td>\n",
       "      <td>1</td>\n",
       "      <td>1</td>\n",
       "      <td>1</td>\n",
       "      <td>6</td>\n",
       "      <td>5</td>\n",
       "      <td>1</td>\n",
       "      <td>4</td>\n",
       "      <td>1</td>\n",
       "    </tr>\n",
       "    <tr>\n",
       "      <th>30</th>\n",
       "      <td>Russia</td>\n",
       "      <td>europe</td>\n",
       "      <td>H</td>\n",
       "      <td>3</td>\n",
       "      <td>3</td>\n",
       "      <td>0</td>\n",
       "      <td>2</td>\n",
       "      <td>1</td>\n",
       "      <td>2</td>\n",
       "      <td>3</td>\n",
       "      <td>−1</td>\n",
       "      <td>2</td>\n",
       "      <td>0</td>\n",
       "    </tr>\n",
       "    <tr>\n",
       "      <th>31</th>\n",
       "      <td>South Korea</td>\n",
       "      <td>asia</td>\n",
       "      <td>H</td>\n",
       "      <td>4</td>\n",
       "      <td>3</td>\n",
       "      <td>0</td>\n",
       "      <td>1</td>\n",
       "      <td>2</td>\n",
       "      <td>3</td>\n",
       "      <td>6</td>\n",
       "      <td>−3</td>\n",
       "      <td>1</td>\n",
       "      <td>0</td>\n",
       "    </tr>\n",
       "  </tbody>\n",
       "</table>\n",
       "</div>"
      ],
      "text/plain": [
       "                      team     continent group  group_pos  cantidad_juegos  \\\n",
       "0                   Brazil  southamerica     A          1                3   \n",
       "1                   Mexico  northamerica     A          2                3   \n",
       "2                  Croatia        europe     A          3                3   \n",
       "3                 Cameroon        africa     A          4                3   \n",
       "4              Netherlands        europe     B          1                3   \n",
       "5                    Chile  southamerica     B          2                3   \n",
       "6                    Spain        europe     B          3                3   \n",
       "7                Australia          asia     B          4                3   \n",
       "8                 Colombia  southamerica     C          1                3   \n",
       "9                   Greece        europe     C          2                3   \n",
       "10             Ivory Coast        africa     C          3                3   \n",
       "11                   Japan          asia     C          4                3   \n",
       "12              Costa Rica  northamerica     D          1                3   \n",
       "13                 Uruguay  southamerica     D          2                3   \n",
       "14                   Italy        europe     D          3                3   \n",
       "15                 England        europe     D          4                3   \n",
       "16                  France        europe     E          1                3   \n",
       "17             Switzerland        europe     E          2                3   \n",
       "18                 Ecuador  southamerica     E          3                3   \n",
       "19                Honduras  northamerica     E          4                3   \n",
       "20               Argentina  southamerica     F          1                3   \n",
       "21                 Nigeria        africa     F          2                3   \n",
       "22  Bosnia and Herzegovina        europe     F          3                3   \n",
       "23                    Iran          asia     F          4                3   \n",
       "24                 Germany        europe     G          1                3   \n",
       "25           United States  northamerica     G          2                3   \n",
       "26                Portugal        europe     G          3                3   \n",
       "27                   Ghana        africa     G          4                3   \n",
       "28                 Belgium        europe     H          1                3   \n",
       "29                 Algeria        africa     H          2                3   \n",
       "30                  Russia        europe     H          3                3   \n",
       "31             South Korea          asia     H          4                3   \n",
       "\n",
       "    juegos_ganados  juegos_empatados  juegos_perdidos  goles_favor  \\\n",
       "0                2                 1                0            7   \n",
       "1                2                 1                0            4   \n",
       "2                1                 0                2            6   \n",
       "3                0                 0                3            1   \n",
       "4                3                 0                0           10   \n",
       "5                2                 0                1            5   \n",
       "6                1                 0                2            4   \n",
       "7                0                 0                3            3   \n",
       "8                3                 0                0            9   \n",
       "9                1                 1                1            2   \n",
       "10               1                 0                2            4   \n",
       "11               0                 1                2            2   \n",
       "12               2                 1                0            4   \n",
       "13               2                 0                1            4   \n",
       "14               1                 0                2            2   \n",
       "15               0                 1                2            2   \n",
       "16               2                 1                0            8   \n",
       "17               2                 0                1            7   \n",
       "18               1                 1                1            3   \n",
       "19               0                 0                3            1   \n",
       "20               3                 0                0            6   \n",
       "21               1                 1                1            3   \n",
       "22               1                 0                2            4   \n",
       "23               0                 1                2            1   \n",
       "24               2                 1                0            7   \n",
       "25               1                 1                1            4   \n",
       "26               1                 1                1            4   \n",
       "27               0                 1                2            4   \n",
       "28               3                 0                0            4   \n",
       "29               1                 1                1            6   \n",
       "30               0                 2                1            2   \n",
       "31               0                 1                2            3   \n",
       "\n",
       "    goles_contra goles_diferencia  puntos  clasificado  \n",
       "0              2                5       7            1  \n",
       "1              1                3       7            1  \n",
       "2              6                0       3            0  \n",
       "3              9               −8       0            0  \n",
       "4              3                7       9            1  \n",
       "5              3                2       6            1  \n",
       "6              7               −3       3            0  \n",
       "7              9               −6       0            0  \n",
       "8              2                7       9            1  \n",
       "9              4               −2       4            1  \n",
       "10             5               −1       3            0  \n",
       "11             6               −4       1            0  \n",
       "12             1                3       7            1  \n",
       "13             4                0       6            1  \n",
       "14             3               −1       3            0  \n",
       "15             4               −2       1            0  \n",
       "16             2                6       7            1  \n",
       "17             6                1       6            1  \n",
       "18             3                0       4            0  \n",
       "19             8               −7       0            0  \n",
       "20             3                3       9            1  \n",
       "21             3                0       4            1  \n",
       "22             4                0       3            0  \n",
       "23             4               −3       1            0  \n",
       "24             2                5       7            1  \n",
       "25             4                0       4            1  \n",
       "26             7               −3       4            0  \n",
       "27             6               −2       1            0  \n",
       "28             1                3       9            1  \n",
       "29             5                1       4            1  \n",
       "30             3               −1       2            0  \n",
       "31             6               −3       1            0  "
      ]
     },
     "execution_count": 2,
     "metadata": {},
     "output_type": "execute_result"
    }
   ],
   "source": [
    "# cargar archivo con datos\n",
    "df_WorldCup2014 = pd.read_csv('worldcup2014.csv',delimiter=',')\n",
    "df_WorldCup2014"
   ]
  },
  {
   "cell_type": "code",
   "execution_count": null,
   "id": "8aa32b85",
   "metadata": {},
   "outputs": [],
   "source": [
    "#revisar\n",
    "#print(df_WorldCup2014.shape)\n",
    "#df_WorldCup2014.describe()"
   ]
  },
  {
   "cell_type": "markdown",
   "id": "395bb51c",
   "metadata": {},
   "source": [
    "1. Considerando el experimento de seleccionar un país participante al azar, se pide\n",
    "determinar las probabilidades de los siguientes sucesos:"
   ]
  },
  {
   "cell_type": "code",
   "execution_count": 3,
   "id": "1be57a4c",
   "metadata": {},
   "outputs": [
    {
     "data": {
      "text/plain": [
       "europe          13\n",
       "southamerica     6\n",
       "africa           5\n",
       "northamerica     4\n",
       "asia             4\n",
       "Name: continent, dtype: int64"
      ]
     },
     "execution_count": 3,
     "metadata": {},
     "output_type": "execute_result"
    }
   ],
   "source": [
    "# resumen por continente\n",
    "df_WorldCup2014[\"continent\"].value_counts()"
   ]
  },
  {
   "cell_type": "code",
   "execution_count": 4,
   "id": "758f71b1",
   "metadata": {},
   "outputs": [
    {
     "name": "stdout",
     "output_type": "stream",
     "text": [
      "La probabilidad de pertenecer a africa equivale a:     15.62%\n",
      "La probabilidad de pertenecer a asia equivale a:     12.5%\n",
      "La probabilidad de pertenecer a europe equivale a:     40.62%\n",
      "La probabilidad de pertenecer a northamerica equivale a:     12.5%\n",
      "La probabilidad de pertenecer a southamerica equivale a:     18.75%\n"
     ]
    }
   ],
   "source": [
    "# a. pertenecer a África\n",
    "fn.probabilidad_pertenecer_a_continente(df_WorldCup2014, 'africa')\n",
    "# b. pertenecer a Asia\n",
    "fn.probabilidad_pertenecer_a_continente(df_WorldCup2014, 'asia')\n",
    "# c. pertenecer a Europa\n",
    "fn.probabilidad_pertenecer_a_continente(df_WorldCup2014, 'europe')\n",
    "# d. pertenecer a Norteamérica\n",
    "fn.probabilidad_pertenecer_a_continente(df_WorldCup2014, 'northamerica')\n",
    "# e. pertenecer a Sudamérica\n",
    "fn.probabilidad_pertenecer_a_continente(df_WorldCup2014, 'southamerica')"
   ]
  },
  {
   "cell_type": "code",
   "execution_count": 5,
   "id": "97f216d1",
   "metadata": {},
   "outputs": [
    {
     "name": "stdout",
     "output_type": "stream",
     "text": [
      "la probabilidad de clasificar a segunda ronda es : 50.0%\n"
     ]
    }
   ],
   "source": [
    "# f. clasificar a segunda ronda\n",
    "\n",
    "# df_WorldCup2014['clasificado'].value_counts()[1] -> cantidad de registros con columna clasificado =1\n",
    "# df_WorldCup2014.shape[0] -> total de registros (paises participantes)\n",
    "\n",
    "print(f\"la probabilidad de clasificar a segunda ronda es : \\\n",
    "{round((df_WorldCup2014['clasificado'].value_counts()[1] / df_WorldCup2014.shape[0]) * 100, 2)}%\")"
   ]
  },
  {
   "cell_type": "code",
   "execution_count": 6,
   "id": "120f60a0",
   "metadata": {},
   "outputs": [
    {
     "name": "stdout",
     "output_type": "stream",
     "text": [
      "la probabilidad de ganar al menos un partido es 71.88%\n"
     ]
    }
   ],
   "source": [
    "# g. ganar al menos un partido\n",
    "\n",
    "# df_WorldCup2014['juegos_ganados'].value_counts()[0] -> cantidad de juegos no ganados\n",
    "# df_WorldCup2014.shape[0] -> total de registros (paises participantes)\n",
    "\n",
    "print(f\"la probabilidad de ganar al menos un partido es \\\n",
    "{round(( 1 - (df_WorldCup2014['juegos_ganados'].value_counts()[0] / df_WorldCup2014.shape[0]) ) * 100, 2)}%\")"
   ]
  },
  {
   "cell_type": "code",
   "execution_count": 7,
   "id": "d9bad0bf",
   "metadata": {},
   "outputs": [
    {
     "name": "stdout",
     "output_type": "stream",
     "text": [
      "La probabilidad de pertenecer a africa y pasar a segunda ronda equivale a:     6.25%\n"
     ]
    }
   ],
   "source": [
    "# h. pertenecer a África y clasificar a segunda ronda\n",
    "fn.probabilidad_continente_y_segundaronda(df_WorldCup2014, 'africa')\n"
   ]
  },
  {
   "cell_type": "code",
   "execution_count": 8,
   "id": "691695a8",
   "metadata": {},
   "outputs": [
    {
     "name": "stdout",
     "output_type": "stream",
     "text": [
      "La probabilidad de pertenecer a europe y pasar a segunda ronda equivale a:     18.75%\n"
     ]
    }
   ],
   "source": [
    "# i. pertenecer a Europa y clasificar a segunda ronda\n",
    "fn.probabilidad_continente_y_segundaronda(df_WorldCup2014, 'europe')"
   ]
  },
  {
   "cell_type": "code",
   "execution_count": 9,
   "id": "e7a8ccf7",
   "metadata": {},
   "outputs": [
    {
     "name": "stdout",
     "output_type": "stream",
     "text": [
      "La probabilidad de pertenecer a asia y pasar a segunda ronda equivale a:     0.0%\n"
     ]
    }
   ],
   "source": [
    "# j. pertenecer a Asia y clasificar a segunda ronda\n",
    "fn.probabilidad_continente_y_segundaronda(df_WorldCup2014, 'asia')"
   ]
  },
  {
   "cell_type": "code",
   "execution_count": 10,
   "id": "b47fae75",
   "metadata": {},
   "outputs": [
    {
     "name": "stdout",
     "output_type": "stream",
     "text": [
      "La probabilidad de pertenecer a southamerica y pasar a segunda ronda equivale a:     15.62%\n"
     ]
    }
   ],
   "source": [
    "# k. pertenecer a Sudamérica y clasificar a segunda ronda\n",
    "fn.probabilidad_continente_y_segundaronda(df_WorldCup2014, 'southamerica')"
   ]
  },
  {
   "cell_type": "code",
   "execution_count": 11,
   "id": "b9305818",
   "metadata": {},
   "outputs": [
    {
     "name": "stdout",
     "output_type": "stream",
     "text": [
      "La probabilidad de pertenecer a northamerica y pasar a segunda ronda equivale a:     9.38%\n"
     ]
    }
   ],
   "source": [
    "# l. pertenecer a Norteamérica y clasificar a segunda ronda\n",
    "fn.probabilidad_continente_y_segundaronda(df_WorldCup2014, 'northamerica')"
   ]
  },
  {
   "cell_type": "code",
   "execution_count": 12,
   "id": "7753d234",
   "metadata": {},
   "outputs": [
    {
     "name": "stdout",
     "output_type": "stream",
     "text": [
      "La probabilidad de pertenecer a africa o pasar a segunda ronda equivale a:     59.38%\n"
     ]
    }
   ],
   "source": [
    "# m. pertenecer a África o clasificar a segunda ronda\n",
    "fn.probabilidad_continente_o_segundaronda(df_WorldCup2014, 'africa')"
   ]
  },
  {
   "cell_type": "code",
   "execution_count": 13,
   "id": "3f6dbcf1",
   "metadata": {},
   "outputs": [
    {
     "name": "stdout",
     "output_type": "stream",
     "text": [
      "La probabilidad de pertenecer a europe o pasar a segunda ronda equivale a:     71.88%\n"
     ]
    }
   ],
   "source": [
    "# n. pertenecer a Europa o clasificar a segunda ronda\n",
    "fn.probabilidad_continente_o_segundaronda(df_WorldCup2014, 'europe')"
   ]
  },
  {
   "cell_type": "code",
   "execution_count": 14,
   "id": "05d6ae03",
   "metadata": {},
   "outputs": [
    {
     "name": "stdout",
     "output_type": "stream",
     "text": [
      "La probabilidad de pertenecer a asia o pasar a segunda ronda equivale a:     62.5%\n"
     ]
    }
   ],
   "source": [
    "# o. pertenecer a Asia o clasificar a segunda ronda\n",
    "fn.probabilidad_continente_o_segundaronda(df_WorldCup2014, 'asia')"
   ]
  },
  {
   "cell_type": "code",
   "execution_count": 15,
   "id": "963f37e9",
   "metadata": {},
   "outputs": [
    {
     "name": "stdout",
     "output_type": "stream",
     "text": [
      "La probabilidad de pertenecer a southamerica o pasar a segunda ronda equivale a:     53.12%\n"
     ]
    }
   ],
   "source": [
    "# p. pertenecer a Sudamérica o clasificar a segunda ronda\n",
    "fn.probabilidad_continente_o_segundaronda(df_WorldCup2014, 'southamerica')"
   ]
  },
  {
   "cell_type": "code",
   "execution_count": 16,
   "id": "40e93fab",
   "metadata": {},
   "outputs": [
    {
     "name": "stdout",
     "output_type": "stream",
     "text": [
      "La probabilidad de pertenecer a northamerica o pasar a segunda ronda equivale a:     53.12%\n"
     ]
    }
   ],
   "source": [
    "# q. pertenecer a Norteamérica o clasificar a segunda ronda\n",
    "fn.probabilidad_continente_o_segundaronda(df_WorldCup2014, 'northamerica')"
   ]
  },
  {
   "cell_type": "code",
   "execution_count": 17,
   "id": "ebffc386",
   "metadata": {},
   "outputs": [
    {
     "name": "stdout",
     "output_type": "stream",
     "text": [
      "La probabilidad de pertenecer a africa y haber ganado al menos un partido equivale a:     9.38%\n"
     ]
    }
   ],
   "source": [
    "# r. pertenecer a África y haber ganado al menos un partido\n",
    "fn.probabilidad_continente_y_ganaralmenosunpartido(df_WorldCup2014, 'africa')\n"
   ]
  },
  {
   "cell_type": "code",
   "execution_count": 19,
   "id": "23c611ad",
   "metadata": {},
   "outputs": [
    {
     "name": "stdout",
     "output_type": "stream",
     "text": [
      "La probabilidad de pertenecer a europe y haber ganado al menos un partido equivale a:     34.38%\n"
     ]
    }
   ],
   "source": [
    "# s. pertenecer a Europa y haber ganado al menos un partido\n",
    "fn.probabilidad_continente_y_ganaralmenosunpartido(df_WorldCup2014, 'europe')"
   ]
  },
  {
   "cell_type": "code",
   "execution_count": 18,
   "id": "74939d0f",
   "metadata": {},
   "outputs": [
    {
     "name": "stdout",
     "output_type": "stream",
     "text": [
      "La probabilidad de pertenecer a asia y haber ganado al menos un partido equivale a:     0.0%\n"
     ]
    }
   ],
   "source": [
    "# t. pertenecer a Asia y haber ganado al menos un partido\n",
    "fn.probabilidad_continente_y_ganaralmenosunpartido(df_WorldCup2014, 'asia')"
   ]
  },
  {
   "cell_type": "code",
   "execution_count": 20,
   "id": "223d03d6",
   "metadata": {},
   "outputs": [
    {
     "name": "stdout",
     "output_type": "stream",
     "text": [
      "La probabilidad de pertenecer a southamerica y haber ganado al menos un partido equivale a:     18.75%\n"
     ]
    }
   ],
   "source": [
    "# u. pertenecer a Sudamérica y haber ganado al menos un partido\n",
    "fn.probabilidad_continente_y_ganaralmenosunpartido(df_WorldCup2014, 'southamerica')"
   ]
  },
  {
   "cell_type": "code",
   "execution_count": 21,
   "id": "4191916e",
   "metadata": {},
   "outputs": [
    {
     "name": "stdout",
     "output_type": "stream",
     "text": [
      "La probabilidad de pertenecer a northamerica y haber ganado al menos un partido equivale a:     9.38%\n"
     ]
    }
   ],
   "source": [
    "# v. pertenecer a Norteamérica y haber ganado al menos un partido\n",
    "fn.probabilidad_continente_y_ganaralmenosunpartido(df_WorldCup2014, 'northamerica')"
   ]
  },
  {
   "cell_type": "code",
   "execution_count": 22,
   "id": "9f0938d4",
   "metadata": {},
   "outputs": [
    {
     "name": "stdout",
     "output_type": "stream",
     "text": [
      "La probabilidad de haber ganado al menos un partido y clasificar a segunda ronda equivale a:     50.0%\n"
     ]
    }
   ],
   "source": [
    "# w. haber ganado al menos un partido y clasificar a segunda ronda\n",
    "# condiciones\n",
    "condicion1 = df_WorldCup2014['juegos_ganados'] > 0     #  -->  ganar al menos un partido\n",
    "condicion2 = df_WorldCup2014['clasificado'] == 1   # --> clasificados a segunda ronda\n",
    "#probabilidad\n",
    "probabilidad = (condicion1 & condicion2).sum()/df_WorldCup2014.shape[0] \n",
    "\n",
    "print(f\"La probabilidad de haber ganado al menos un partido y clasificar a segunda ronda equivale a: \\\n",
    "    {round(probabilidad * 100, 2)}%\")   "
   ]
  },
  {
   "cell_type": "markdown",
   "id": "2bf6a6c2",
   "metadata": {},
   "source": [
    "2. A partir de las probabilidades anteriores, y sin realizar conteos, calcular las\n",
    "siguientes probabilidades:\n",
    "$$ P(A|B) = \\frac{P(A y B)}{P(B)}$$"
   ]
  },
  {
   "cell_type": "markdown",
   "id": "dae7b771",
   "metadata": {},
   "source": []
  },
  {
   "cell_type": "code",
   "execution_count": 23,
   "id": "367eab96",
   "metadata": {},
   "outputs": [
    {
     "name": "stdout",
     "output_type": "stream",
     "text": [
      "La probabilidad de pertenecer a Europa, si se sabe que clasificó equivale a -->      37.5%\n"
     ]
    }
   ],
   "source": [
    "# a. pertenecer a Europa, si se sabe que clasificó\n",
    "\n",
    "# genero parametros de entrada\n",
    "condicion_A=df_WorldCup2014['continent'] == 'europe'\n",
    "condicion_B=df_WorldCup2014['clasificado'] == 1\n",
    "total= df_WorldCup2014.shape[0]\n",
    "descripcion='La probabilidad de pertenecer a Europa, si se sabe que clasificó equivale a -->'\n",
    "\n",
    "# funcion que calcula la probabilidad\n",
    "fn.probabilidad_AyB_probabilidad_B(condicion_A, condicion_B, total, descripcion)"
   ]
  },
  {
   "cell_type": "code",
   "execution_count": 24,
   "id": "049d2269",
   "metadata": {},
   "outputs": [
    {
     "name": "stdout",
     "output_type": "stream",
     "text": [
      "La probabilidad de pertenecer a Sudamerica, si se sabe que clasificó equivale a -->      31.25%\n"
     ]
    }
   ],
   "source": [
    "# b. pertenecer a Sudamérica, si se sabe que clasificó\n",
    "\n",
    "# genero parametros de entrada\n",
    "condicion_A=df_WorldCup2014['continent'] == 'southamerica'\n",
    "condicion_B=df_WorldCup2014['clasificado'] == 1\n",
    "total= df_WorldCup2014.shape[0]\n",
    "descripcion='La probabilidad de pertenecer a Sudamerica, si se sabe que clasificó equivale a -->'\n",
    "\n",
    "# funcion que calcula la probabilidad\n",
    "fn.probabilidad_AyB_probabilidad_B(condicion_A, condicion_B, total, descripcion)"
   ]
  },
  {
   "cell_type": "code",
   "execution_count": 25,
   "id": "4c8ccba0",
   "metadata": {},
   "outputs": [
    {
     "name": "stdout",
     "output_type": "stream",
     "text": [
      "La probabilidad de pertenecer a África, si se sabe que ganó al menos un partido equivale a -->      13.04%\n"
     ]
    }
   ],
   "source": [
    "# c. pertenecer a África, si se sabe que ganó al menos un partido\n",
    "\n",
    "# condiciones\n",
    "condicion_A=df_WorldCup2014['continent'] == 'africa'\n",
    "condicion_B=df_WorldCup2014['juegos_ganados'] > 0\n",
    "total= df_WorldCup2014.shape[0]\n",
    "descripcion='La probabilidad de pertenecer a África, si se sabe que ganó al menos un partido equivale a -->'\n",
    "\n",
    "# funcion que calcula la probabilidad\n",
    "fn.probabilidad_AyB_probabilidad_B(condicion_A, condicion_B, total, descripcion)"
   ]
  },
  {
   "cell_type": "code",
   "execution_count": 26,
   "id": "38bb3b76",
   "metadata": {},
   "outputs": [
    {
     "name": "stdout",
     "output_type": "stream",
     "text": [
      "La probabilidad de haber ganado al menos un partido, si se sabe que clasificó equivale a -->      100.0%\n"
     ]
    }
   ],
   "source": [
    "# d. haber ganado al menos un partido, si se sabe que clasificó\n",
    "# condiciones\n",
    "condicion_A=df_WorldCup2014['juegos_ganados'] > 0\n",
    "condicion_B=df_WorldCup2014['clasificado'] == 1\n",
    "total= df_WorldCup2014.shape[0]\n",
    "descripcion='La probabilidad de haber ganado al menos un partido, si se sabe que clasificó equivale a -->'\n",
    "\n",
    "# funcion que calcula la probabilidad\n",
    "fn.probabilidad_AyB_probabilidad_B(condicion_A, condicion_B, total, descripcion)"
   ]
  },
  {
   "cell_type": "code",
   "execution_count": 27,
   "id": "0ea1df7d",
   "metadata": {},
   "outputs": [
    {
     "name": "stdout",
     "output_type": "stream",
     "text": [
      "La probabilidad de haber ganado al menos un partido, si se sabe que pertenece a Norteamérica equivale a -->      75.0%\n"
     ]
    }
   ],
   "source": [
    "# e. haber ganado al menos un partido, si se sabe que pertenece a Norteamérica\n",
    "# condiciones\n",
    "condicion_A=df_WorldCup2014['juegos_ganados'] > 0\n",
    "condicion_B=df_WorldCup2014['continent'] == 'northamerica'\n",
    "total= df_WorldCup2014.shape[0]\n",
    "descripcion='La probabilidad de haber ganado al menos un partido, si se sabe que pertenece a Norteamérica equivale a -->'\n",
    "\n",
    "# funcion que calcula la probabilidad\n",
    "fn.probabilidad_AyB_probabilidad_B(condicion_A, condicion_B, total, descripcion)"
   ]
  },
  {
   "cell_type": "code",
   "execution_count": 28,
   "id": "d796f3c9",
   "metadata": {},
   "outputs": [
    {
     "name": "stdout",
     "output_type": "stream",
     "text": [
      "La probabilidad de NO haber clasificado, si se sabe que pertenece a África equivale a -->      60.0%\n"
     ]
    }
   ],
   "source": [
    "# f. NO haber clasificado, si se sabe que pertenece a África\n",
    "\n",
    "# condiciones\n",
    "condicion_A=df_WorldCup2014['clasificado'] == 0\n",
    "condicion_B=df_WorldCup2014['continent'] == 'africa'\n",
    "total= df_WorldCup2014.shape[0]\n",
    "descripcion='La probabilidad de NO haber clasificado, si se sabe que pertenece a África equivale a -->'\n",
    "\n",
    "# funcion que calcula la probabilidad\n",
    "fn.probabilidad_AyB_probabilidad_B(condicion_A, condicion_B, total, descripcion)"
   ]
  },
  {
   "cell_type": "code",
   "execution_count": null,
   "id": "e0ab5fe3",
   "metadata": {},
   "outputs": [],
   "source": []
  }
 ],
 "metadata": {
  "kernelspec": {
   "display_name": "Python 3 (ipykernel)",
   "language": "python",
   "name": "python3"
  },
  "language_info": {
   "codemirror_mode": {
    "name": "ipython",
    "version": 3
   },
   "file_extension": ".py",
   "mimetype": "text/x-python",
   "name": "python",
   "nbconvert_exporter": "python",
   "pygments_lexer": "ipython3",
   "version": "3.11.4"
  }
 },
 "nbformat": 4,
 "nbformat_minor": 5
}
